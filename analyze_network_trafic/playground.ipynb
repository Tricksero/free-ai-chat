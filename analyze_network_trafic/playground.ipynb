{
 "cells": [
  {
   "cell_type": "code",
   "execution_count": null,
   "metadata": {},
   "outputs": [],
   "source": [
    "import psutil\n",
    "\n",
    "connections = psutil.net_connections(kind='inet')"
   ]
  },
  {
   "cell_type": "code",
   "execution_count": null,
   "metadata": {},
   "outputs": [],
   "source": [
    "for conn in connections:\n",
    "    if conn.pid != None:# and not \"127\" in str(conn.raddr):\n",
    "        print(conn)\n",
    "\n",
    "\n",
    "\n",
    "\n",
    "# [print(conn) for conn in connections if conn.pid != None and not \"127\" in conn.raddr ]"
   ]
  },
  {
   "cell_type": "code",
   "execution_count": 14,
   "metadata": {},
   "outputs": [
    {
     "name": "stdout",
     "output_type": "stream",
     "text": [
      "python is sending data (PID: 32108).\n",
      "Capturing network traffic...\n",
      "ksdjfnlikflf\n"
     ]
    }
   ],
   "source": [
    "import psutil\n",
    "from scapy import *\n",
    "\n",
    "def get_network_connections():\n",
    "    connections = psutil.net_connections(kind='inet')\n",
    "    return connections\n",
    "\n",
    "def is_software_sending_data(process_name):\n",
    "    connections = get_network_connections()\n",
    "    for conn in connections:\n",
    "        if conn.status == 'ESTABLISHED' and conn.pid is not None:\n",
    "            try:\n",
    "                process = psutil.Process(conn.pid)\n",
    "                if process.name() == process_name:\n",
    "                    return conn.pid\n",
    "            except psutil.NoSuchProcess:\n",
    "                pass\n",
    "    return None\n",
    "\n",
    "def capture_network_traffic(pid):\n",
    "    def packet_handler(packet):\n",
    "        # Process network packet data here\n",
    "        with open(\"./test.log\",\"a\") as f:\n",
    "            f.write(f\"Packet captured from PID {pid}: {packet.summary()}\\n\")\n",
    "        # print(f\"Packet captured from PID {pid}: {packet.summary()}\")\n",
    "\n",
    "    sniff(filter=\"ip\", prn=packet_handler, timeout=10)\n",
    "    print(\"ksdjfnlikflf\")\n",
    "\n",
    "\n",
    "if __name__ == \"__main__\":\n",
    "    process_name_to_check = \"python\"  # Replace with the name of the software you want to monitor\n",
    "    pid = is_software_sending_data(process_name_to_check)\n",
    "\n",
    "    if pid is not None:\n",
    "        print(f\"{process_name_to_check} is sending data (PID: {pid}).\")\n",
    "        print(\"Capturing network traffic...\")\n",
    "        capture_network_traffic(pid)\n",
    "    else:\n",
    "        print(f\"{process_name_to_check} is not sending data.\")\n"
   ]
  },
  {
   "cell_type": "code",
   "execution_count": null,
   "metadata": {},
   "outputs": [],
   "source": [
    "import psutil\n",
    "from scapy import *\n",
    "from scapy.all import sniff\n",
    "\n",
    "\n",
    "\n",
    "connections = psutil.net_connections(kind='inet')\n",
    "programms = {}\n",
    "for conn in connections:\n",
    "    if conn.pid is not None:\n",
    "        process = psutil.Process(conn.pid)\n",
    "        if not process.exe() in programms:\n",
    "            programms[process.exe()] = 1\n",
    "        else:\n",
    "            programms[process.exe()] += 1\n",
    "print(programms)\n",
    "        # if not \".vscode-server\" in process.exe():\n",
    "        #     # print(\"not vs code\")\n",
    "        #     sniff(filter=\"ip\", prn=lambda packet: print(f\"Packet captured: {packet.summary()}\"))"
   ]
  },
  {
   "cell_type": "code",
   "execution_count": 32,
   "metadata": {},
   "outputs": [],
   "source": [
    "import psutil\n",
    "from scapy import *\n",
    "from scapy.all import sniff, IP\n",
    "\n"
   ]
  },
  {
   "cell_type": "code",
   "execution_count": 71,
   "metadata": {},
   "outputs": [
    {
     "name": "stdout",
     "output_type": "stream",
     "text": [
      "/usr/local/bin/python3.11\n",
      "/usr/local/bin/python3.11\n",
      "/root/.vscode-server/bin/abd2f3db4bdb28f9e95536dfa84d8479f1eb312d/node\n",
      "0 Ether / IP / UDP / DNS Qry \"b'mobile.events.data.microsoft.com.'\" \n",
      "wasd  <bound method Packet._resolve_alias of <Ether  dst=02:42:5d:4e:94:c8 src=02:42:ac:12:00:02 type=IPv4 |<IP  version=4 ihl=5 tos=0x0 len=78 id=43628 flags=DF frag=0 ttl=64 proto=udp chksum=0xe26e src=172.18.0.2 dst=192.168.65.7 |<UDP  sport=48011 dport=domain len=58 chksum=0xae0f |<DNS  id=40968 qr=0 opcode=QUERY aa=0 tc=0 rd=1 ra=0 z=0 ad=0 cd=0 rcode=ok qdcount=1 ancount=0 nscount=0 arcount=0 qd=<DNSQR  qname='mobile.events.data.microsoft.com.' qtype=A qclass=IN |> an=None ns=None ar=None |>>>>>\n"
     ]
    },
    {
     "ename": "AttributeError",
     "evalue": "ip",
     "output_type": "error",
     "traceback": [
      "\u001b[0;31m---------------------------------------------------------------------------\u001b[0m",
      "\u001b[0;31mValueError\u001b[0m                                Traceback (most recent call last)",
      "File \u001b[0;32m/gpt4all/venv/lib/python3.11/site-packages/scapy/packet.py:455\u001b[0m, in \u001b[0;36mPacket.__getattr__\u001b[0;34m(self, attr)\u001b[0m\n\u001b[1;32m    454\u001b[0m \u001b[39mtry\u001b[39;00m:\n\u001b[0;32m--> 455\u001b[0m     fld, v \u001b[39m=\u001b[39m \u001b[39mself\u001b[39;49m\u001b[39m.\u001b[39;49mgetfield_and_val(attr)\n\u001b[1;32m    456\u001b[0m \u001b[39mexcept\u001b[39;00m \u001b[39mValueError\u001b[39;00m:\n",
      "File \u001b[0;32m/gpt4all/venv/lib/python3.11/site-packages/scapy/packet.py:450\u001b[0m, in \u001b[0;36mPacket.getfield_and_val\u001b[0;34m(self, attr)\u001b[0m\n\u001b[1;32m    449\u001b[0m     \u001b[39mreturn\u001b[39;00m \u001b[39mself\u001b[39m\u001b[39m.\u001b[39mget_field(attr), \u001b[39mself\u001b[39m\u001b[39m.\u001b[39mdefault_fields[attr]\n\u001b[0;32m--> 450\u001b[0m \u001b[39mraise\u001b[39;00m \u001b[39mValueError\u001b[39;00m\n",
      "\u001b[0;31mValueError\u001b[0m: ",
      "\nDuring handling of the above exception, another exception occurred:\n",
      "\u001b[0;31mValueError\u001b[0m                                Traceback (most recent call last)",
      "File \u001b[0;32m/gpt4all/venv/lib/python3.11/site-packages/scapy/packet.py:455\u001b[0m, in \u001b[0;36mPacket.__getattr__\u001b[0;34m(self, attr)\u001b[0m\n\u001b[1;32m    454\u001b[0m \u001b[39mtry\u001b[39;00m:\n\u001b[0;32m--> 455\u001b[0m     fld, v \u001b[39m=\u001b[39m \u001b[39mself\u001b[39;49m\u001b[39m.\u001b[39;49mgetfield_and_val(attr)\n\u001b[1;32m    456\u001b[0m \u001b[39mexcept\u001b[39;00m \u001b[39mValueError\u001b[39;00m:\n",
      "File \u001b[0;32m/gpt4all/venv/lib/python3.11/site-packages/scapy/packet.py:450\u001b[0m, in \u001b[0;36mPacket.getfield_and_val\u001b[0;34m(self, attr)\u001b[0m\n\u001b[1;32m    449\u001b[0m     \u001b[39mreturn\u001b[39;00m \u001b[39mself\u001b[39m\u001b[39m.\u001b[39mget_field(attr), \u001b[39mself\u001b[39m\u001b[39m.\u001b[39mdefault_fields[attr]\n\u001b[0;32m--> 450\u001b[0m \u001b[39mraise\u001b[39;00m \u001b[39mValueError\u001b[39;00m\n",
      "\u001b[0;31mValueError\u001b[0m: ",
      "\nDuring handling of the above exception, another exception occurred:\n",
      "\u001b[0;31mValueError\u001b[0m                                Traceback (most recent call last)",
      "File \u001b[0;32m/gpt4all/venv/lib/python3.11/site-packages/scapy/packet.py:455\u001b[0m, in \u001b[0;36mPacket.__getattr__\u001b[0;34m(self, attr)\u001b[0m\n\u001b[1;32m    454\u001b[0m \u001b[39mtry\u001b[39;00m:\n\u001b[0;32m--> 455\u001b[0m     fld, v \u001b[39m=\u001b[39m \u001b[39mself\u001b[39;49m\u001b[39m.\u001b[39;49mgetfield_and_val(attr)\n\u001b[1;32m    456\u001b[0m \u001b[39mexcept\u001b[39;00m \u001b[39mValueError\u001b[39;00m:\n",
      "File \u001b[0;32m/gpt4all/venv/lib/python3.11/site-packages/scapy/packet.py:450\u001b[0m, in \u001b[0;36mPacket.getfield_and_val\u001b[0;34m(self, attr)\u001b[0m\n\u001b[1;32m    449\u001b[0m     \u001b[39mreturn\u001b[39;00m \u001b[39mself\u001b[39m\u001b[39m.\u001b[39mget_field(attr), \u001b[39mself\u001b[39m\u001b[39m.\u001b[39mdefault_fields[attr]\n\u001b[0;32m--> 450\u001b[0m \u001b[39mraise\u001b[39;00m \u001b[39mValueError\u001b[39;00m\n",
      "\u001b[0;31mValueError\u001b[0m: ",
      "\nDuring handling of the above exception, another exception occurred:\n",
      "\u001b[0;31mValueError\u001b[0m                                Traceback (most recent call last)",
      "File \u001b[0;32m/gpt4all/venv/lib/python3.11/site-packages/scapy/packet.py:455\u001b[0m, in \u001b[0;36mPacket.__getattr__\u001b[0;34m(self, attr)\u001b[0m\n\u001b[1;32m    454\u001b[0m \u001b[39mtry\u001b[39;00m:\n\u001b[0;32m--> 455\u001b[0m     fld, v \u001b[39m=\u001b[39m \u001b[39mself\u001b[39;49m\u001b[39m.\u001b[39;49mgetfield_and_val(attr)\n\u001b[1;32m    456\u001b[0m \u001b[39mexcept\u001b[39;00m \u001b[39mValueError\u001b[39;00m:\n",
      "File \u001b[0;32m/gpt4all/venv/lib/python3.11/site-packages/scapy/packet.py:450\u001b[0m, in \u001b[0;36mPacket.getfield_and_val\u001b[0;34m(self, attr)\u001b[0m\n\u001b[1;32m    449\u001b[0m     \u001b[39mreturn\u001b[39;00m \u001b[39mself\u001b[39m\u001b[39m.\u001b[39mget_field(attr), \u001b[39mself\u001b[39m\u001b[39m.\u001b[39mdefault_fields[attr]\n\u001b[0;32m--> 450\u001b[0m \u001b[39mraise\u001b[39;00m \u001b[39mValueError\u001b[39;00m\n",
      "\u001b[0;31mValueError\u001b[0m: ",
      "\nDuring handling of the above exception, another exception occurred:\n",
      "\u001b[0;31mAttributeError\u001b[0m                            Traceback (most recent call last)",
      "\u001b[1;32m/gpt4all/analyze_network_trafic/playground.ipynb Cell 6\u001b[0m line \u001b[0;36m4\n\u001b[1;32m     <a href='vscode-notebook-cell://attached-container%2B7b22636f6e7461696e65724e616d65223a222f6c6f63616c2d67707434616c6c2d776562736974652d7765622d31227d/gpt4all/analyze_network_trafic/playground.ipynb#W5sdnNjb2RlLXJlbW90ZQ%3D%3D?line=43'>44</a>\u001b[0m \u001b[39mprint\u001b[39m(process\u001b[39m.\u001b[39mexe())\n\u001b[1;32m     <a href='vscode-notebook-cell://attached-container%2B7b22636f6e7461696e65724e616d65223a222f6c6f63616c2d67707434616c6c2d776562736974652d7765622d31227d/gpt4all/analyze_network_trafic/playground.ipynb#W5sdnNjb2RlLXJlbW90ZQ%3D%3D?line=44'>45</a>\u001b[0m \u001b[39mif\u001b[39;00m \u001b[39m\"\u001b[39m\u001b[39m.vscode-server\u001b[39m\u001b[39m\"\u001b[39m \u001b[39min\u001b[39;00m process\u001b[39m.\u001b[39mexe():\n\u001b[0;32m---> <a href='vscode-notebook-cell://attached-container%2B7b22636f6e7461696e65724e616d65223a222f6c6f63616c2d67707434616c6c2d776562736974652d7765622d31227d/gpt4all/analyze_network_trafic/playground.ipynb#W5sdnNjb2RlLXJlbW90ZQ%3D%3D?line=45'>46</a>\u001b[0m     capture_network_traffic(conn\u001b[39m.\u001b[39;49mpid)\n\u001b[1;32m     <a href='vscode-notebook-cell://attached-container%2B7b22636f6e7461696e65724e616d65223a222f6c6f63616c2d67707434616c6c2d776562736974652d7765622d31227d/gpt4all/analyze_network_trafic/playground.ipynb#W5sdnNjb2RlLXJlbW90ZQ%3D%3D?line=46'>47</a>\u001b[0m     \u001b[39mbreak\u001b[39;00m\n",
      "\u001b[1;32m/gpt4all/analyze_network_trafic/playground.ipynb Cell 6\u001b[0m line \u001b[0;36m1\n\u001b[1;32m     <a href='vscode-notebook-cell://attached-container%2B7b22636f6e7461696e65724e616d65223a222f6c6f63616c2d67707434616c6c2d776562736974652d7765622d31227d/gpt4all/analyze_network_trafic/playground.ipynb#W5sdnNjb2RlLXJlbW90ZQ%3D%3D?line=11'>12</a>\u001b[0m \u001b[39mif\u001b[39;00m i\u001b[39m.\u001b[39mtype \u001b[39m==\u001b[39m \u001b[39m\"\u001b[39m\u001b[39mipv4\u001b[39m\u001b[39m\"\u001b[39m:\n\u001b[1;32m     <a href='vscode-notebook-cell://attached-container%2B7b22636f6e7461696e65724e616d65223a222f6c6f63616c2d67707434616c6c2d776562736974652d7765622d31227d/gpt4all/analyze_network_trafic/playground.ipynb#W5sdnNjb2RlLXJlbW90ZQ%3D%3D?line=12'>13</a>\u001b[0m     \u001b[39mprint\u001b[39m(\u001b[39m\"\u001b[39m\u001b[39mjuhu\u001b[39m\u001b[39m\"\u001b[39m)\n\u001b[0;32m---> <a href='vscode-notebook-cell://attached-container%2B7b22636f6e7461696e65724e616d65223a222f6c6f63616c2d67707434616c6c2d776562736974652d7765622d31227d/gpt4all/analyze_network_trafic/playground.ipynb#W5sdnNjb2RlLXJlbW90ZQ%3D%3D?line=13'>14</a>\u001b[0m \u001b[39mprint\u001b[39m(\u001b[39m\"\u001b[39m\u001b[39mdst \u001b[39m\u001b[39m\"\u001b[39m,i\u001b[39m.\u001b[39;49mip\u001b[39m.\u001b[39mdst)\n\u001b[1;32m     <a href='vscode-notebook-cell://attached-container%2B7b22636f6e7461696e65724e616d65223a222f6c6f63616c2d67707434616c6c2d776562736974652d7765622d31227d/gpt4all/analyze_network_trafic/playground.ipynb#W5sdnNjb2RlLXJlbW90ZQ%3D%3D?line=14'>15</a>\u001b[0m \u001b[39m# i._do_summary könnte interessant sein\u001b[39;00m\n\u001b[1;32m     <a href='vscode-notebook-cell://attached-container%2B7b22636f6e7461696e65724e616d65223a222f6c6f63616c2d67707434616c6c2d776562736974652d7765622d31227d/gpt4all/analyze_network_trafic/playground.ipynb#W5sdnNjb2RlLXJlbW90ZQ%3D%3D?line=15'>16</a>\u001b[0m \u001b[39m# nicht wirklich: __contains__\u001b[39;00m\n\u001b[1;32m     <a href='vscode-notebook-cell://attached-container%2B7b22636f6e7461696e65724e616d65223a222f6c6f63616c2d67707434616c6c2d776562736974652d7765622d31227d/gpt4all/analyze_network_trafic/playground.ipynb#W5sdnNjb2RlLXJlbW90ZQ%3D%3D?line=16'>17</a>\u001b[0m \n\u001b[1;32m     <a href='vscode-notebook-cell://attached-container%2B7b22636f6e7461696e65724e616d65223a222f6c6f63616c2d67707434616c6c2d776562736974652d7765622d31227d/gpt4all/analyze_network_trafic/playground.ipynb#W5sdnNjb2RlLXJlbW90ZQ%3D%3D?line=17'>18</a>\u001b[0m \u001b[39m# print(\"regkljröeourtpizhnur\",dir(i))\u001b[39;00m\n\u001b[1;32m     <a href='vscode-notebook-cell://attached-container%2B7b22636f6e7461696e65724e616d65223a222f6c6f63616c2d67707434616c6c2d776562736974652d7765622d31227d/gpt4all/analyze_network_trafic/playground.ipynb#W5sdnNjb2RlLXJlbW90ZQ%3D%3D?line=18'>19</a>\u001b[0m v \u001b[39m=\u001b[39m \u001b[39mdir\u001b[39m(i)\n",
      "File \u001b[0;32m/gpt4all/venv/lib/python3.11/site-packages/scapy/packet.py:457\u001b[0m, in \u001b[0;36mPacket.__getattr__\u001b[0;34m(self, attr)\u001b[0m\n\u001b[1;32m    455\u001b[0m     fld, v \u001b[39m=\u001b[39m \u001b[39mself\u001b[39m\u001b[39m.\u001b[39mgetfield_and_val(attr)\n\u001b[1;32m    456\u001b[0m \u001b[39mexcept\u001b[39;00m \u001b[39mValueError\u001b[39;00m:\n\u001b[0;32m--> 457\u001b[0m     \u001b[39mreturn\u001b[39;00m \u001b[39mself\u001b[39;49m\u001b[39m.\u001b[39;49mpayload\u001b[39m.\u001b[39;49m\u001b[39m__getattr__\u001b[39;49m(attr)\n\u001b[1;32m    458\u001b[0m \u001b[39mif\u001b[39;00m fld \u001b[39mis\u001b[39;00m \u001b[39mnot\u001b[39;00m \u001b[39mNone\u001b[39;00m:\n\u001b[1;32m    459\u001b[0m     \u001b[39mreturn\u001b[39;00m v \u001b[39mif\u001b[39;00m \u001b[39misinstance\u001b[39m(v, RawVal) \u001b[39melse\u001b[39;00m fld\u001b[39m.\u001b[39mi2h(\u001b[39mself\u001b[39m, v)\n",
      "File \u001b[0;32m/gpt4all/venv/lib/python3.11/site-packages/scapy/packet.py:457\u001b[0m, in \u001b[0;36mPacket.__getattr__\u001b[0;34m(self, attr)\u001b[0m\n\u001b[1;32m    455\u001b[0m     fld, v \u001b[39m=\u001b[39m \u001b[39mself\u001b[39m\u001b[39m.\u001b[39mgetfield_and_val(attr)\n\u001b[1;32m    456\u001b[0m \u001b[39mexcept\u001b[39;00m \u001b[39mValueError\u001b[39;00m:\n\u001b[0;32m--> 457\u001b[0m     \u001b[39mreturn\u001b[39;00m \u001b[39mself\u001b[39;49m\u001b[39m.\u001b[39;49mpayload\u001b[39m.\u001b[39;49m\u001b[39m__getattr__\u001b[39;49m(attr)\n\u001b[1;32m    458\u001b[0m \u001b[39mif\u001b[39;00m fld \u001b[39mis\u001b[39;00m \u001b[39mnot\u001b[39;00m \u001b[39mNone\u001b[39;00m:\n\u001b[1;32m    459\u001b[0m     \u001b[39mreturn\u001b[39;00m v \u001b[39mif\u001b[39;00m \u001b[39misinstance\u001b[39m(v, RawVal) \u001b[39melse\u001b[39;00m fld\u001b[39m.\u001b[39mi2h(\u001b[39mself\u001b[39m, v)\n",
      "    \u001b[0;31m[... skipping similar frames: Packet.__getattr__ at line 457 (1 times)]\u001b[0m\n",
      "File \u001b[0;32m/gpt4all/venv/lib/python3.11/site-packages/scapy/packet.py:457\u001b[0m, in \u001b[0;36mPacket.__getattr__\u001b[0;34m(self, attr)\u001b[0m\n\u001b[1;32m    455\u001b[0m     fld, v \u001b[39m=\u001b[39m \u001b[39mself\u001b[39m\u001b[39m.\u001b[39mgetfield_and_val(attr)\n\u001b[1;32m    456\u001b[0m \u001b[39mexcept\u001b[39;00m \u001b[39mValueError\u001b[39;00m:\n\u001b[0;32m--> 457\u001b[0m     \u001b[39mreturn\u001b[39;00m \u001b[39mself\u001b[39;49m\u001b[39m.\u001b[39;49mpayload\u001b[39m.\u001b[39;49m\u001b[39m__getattr__\u001b[39;49m(attr)\n\u001b[1;32m    458\u001b[0m \u001b[39mif\u001b[39;00m fld \u001b[39mis\u001b[39;00m \u001b[39mnot\u001b[39;00m \u001b[39mNone\u001b[39;00m:\n\u001b[1;32m    459\u001b[0m     \u001b[39mreturn\u001b[39;00m v \u001b[39mif\u001b[39;00m \u001b[39misinstance\u001b[39m(v, RawVal) \u001b[39melse\u001b[39;00m fld\u001b[39m.\u001b[39mi2h(\u001b[39mself\u001b[39m, v)\n",
      "File \u001b[0;32m/gpt4all/venv/lib/python3.11/site-packages/scapy/packet.py:455\u001b[0m, in \u001b[0;36mPacket.__getattr__\u001b[0;34m(self, attr)\u001b[0m\n\u001b[1;32m    452\u001b[0m \u001b[39mdef\u001b[39;00m \u001b[39m__getattr__\u001b[39m(\u001b[39mself\u001b[39m, attr):\n\u001b[1;32m    453\u001b[0m     \u001b[39m# type: (str) -> Any\u001b[39;00m\n\u001b[1;32m    454\u001b[0m     \u001b[39mtry\u001b[39;00m:\n\u001b[0;32m--> 455\u001b[0m         fld, v \u001b[39m=\u001b[39m \u001b[39mself\u001b[39;49m\u001b[39m.\u001b[39;49mgetfield_and_val(attr)\n\u001b[1;32m    456\u001b[0m     \u001b[39mexcept\u001b[39;00m \u001b[39mValueError\u001b[39;00m:\n\u001b[1;32m    457\u001b[0m         \u001b[39mreturn\u001b[39;00m \u001b[39mself\u001b[39m\u001b[39m.\u001b[39mpayload\u001b[39m.\u001b[39m\u001b[39m__getattr__\u001b[39m(attr)\n",
      "File \u001b[0;32m/gpt4all/venv/lib/python3.11/site-packages/scapy/packet.py:1764\u001b[0m, in \u001b[0;36mNoPayload.getfield_and_val\u001b[0;34m(self, attr)\u001b[0m\n\u001b[1;32m   1762\u001b[0m \u001b[39mdef\u001b[39;00m \u001b[39mgetfield_and_val\u001b[39m(\u001b[39mself\u001b[39m, attr):\n\u001b[1;32m   1763\u001b[0m     \u001b[39m# type: (str) -> NoReturn\u001b[39;00m\n\u001b[0;32m-> 1764\u001b[0m     \u001b[39mraise\u001b[39;00m \u001b[39mAttributeError\u001b[39;00m(attr)\n",
      "\u001b[0;31mAttributeError\u001b[0m: ip"
     ]
    }
   ],
   "source": [
    "def capture_network_traffic(pid):\n",
    "\n",
    "    packet = sniff(timeout=3)#lambda packet: print(f\"Packet captured: {packet.summary()}\")\n",
    "    # packet.summary()\n",
    "    vergleich = dir(packet)\n",
    "    for n,i in enumerate(packet):\n",
    "        print(n,i)\n",
    "        print(\"wasd \",i._resolve_alias)\n",
    "        # Idee lass das 1 min vor den tests starten und aufnehmen was so abgeht und wenn \n",
    "        # der download startet weiß ich das und wenn danach oder beim generieren was dazu\n",
    "        # kommt kann ich das sehen.\n",
    "        if i.type == \"ipv4\":\n",
    "            print(\"juhu\")\n",
    "        print(\"dst \",i.dst)\n",
    "        # i._do_summary könnte interessant sein\n",
    "        # nicht wirklich: __contains__\n",
    "        \n",
    "        # print(\"regkljröeourtpizhnur\",dir(i))\n",
    "        v = dir(i)\n",
    "        a = i\n",
    "        print(type(i._do_summary))\n",
    "    print(type(packet))\n",
    "    [print(i) for i in v if i not in vergleich]\n",
    "    # [print(method,\"\\n\") for method in v if callable(getattr(a, method) and not method in vergleich)]\n",
    "    \n",
    "    # class_methods_and_attributes = dir(packet[IP])\n",
    "    if IP in packet:\n",
    "        print(packet[IP])\n",
    "        # Check if the packet is an Ethernet frame\n",
    "        # if EtherDA in packet:\n",
    "        #     print(\"in if\")\n",
    "        #     eth_frame = packet[EtherDA]\n",
    "        #     print(\"is eth_frame\")\n",
    "        #     # Extract the payload data from the Ethernet frame\n",
    "        #     payload_data = eth_frame.payload\n",
    "        #     # Process and print the payload data\n",
    "        #     print(f\"Packet captured from PID {pid}: {payload_data}\")\n",
    "\n",
    "connections = psutil.net_connections(kind='inet')\n",
    "\n",
    "for conn in connections:\n",
    "    if conn.pid is not None:\n",
    "        process = psutil.Process(conn.pid)\n",
    "        print(process.exe())\n",
    "        if \".vscode-server\" in process.exe():\n",
    "            capture_network_traffic(conn.pid)\n",
    "            break"
   ]
  },
  {
   "cell_type": "code",
   "execution_count": null,
   "metadata": {},
   "outputs": [],
   "source": []
  }
 ],
 "metadata": {
  "kernelspec": {
   "display_name": "venv_network",
   "language": "python",
   "name": "python3"
  },
  "language_info": {
   "codemirror_mode": {
    "name": "ipython",
    "version": 3
   },
   "file_extension": ".py",
   "mimetype": "text/x-python",
   "name": "python",
   "nbconvert_exporter": "python",
   "pygments_lexer": "ipython3",
   "version": "3.11.4"
  },
  "orig_nbformat": 4
 },
 "nbformat": 4,
 "nbformat_minor": 2
}
