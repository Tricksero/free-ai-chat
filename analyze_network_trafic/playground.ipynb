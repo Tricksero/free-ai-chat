{
 "cells": [
  {
   "cell_type": "code",
   "execution_count": 1,
   "metadata": {},
   "outputs": [],
   "source": [
    "import psutil\n",
    "\n",
    "connections = psutil.net_connections(kind='inet')"
   ]
  },
  {
   "cell_type": "code",
   "execution_count": 3,
   "metadata": {},
   "outputs": [
    {
     "name": "stdout",
     "output_type": "stream",
     "text": [
      "sconn(fd=63, family=<AddressFamily.AF_INET: 2>, type=<SocketKind.SOCK_STREAM: 1>, laddr=addr(ip='127.0.0.1', port=9002), raddr=addr(ip='127.0.0.1', port=44958), status='ESTABLISHED', pid=4216)\n",
      "sconn(fd=16, family=<AddressFamily.AF_INET: 2>, type=<SocketKind.SOCK_STREAM: 1>, laddr=addr(ip='127.0.0.1', port=44948), raddr=addr(ip='127.0.0.1', port=9002), status='ESTABLISHED', pid=4216)\n",
      "sconn(fd=72, family=<AddressFamily.AF_INET: 2>, type=<SocketKind.SOCK_STREAM: 1>, laddr=addr(ip='127.0.0.1', port=42520), raddr=addr(ip='127.0.0.1', port=9001), status='ESTABLISHED', pid=331)\n",
      "sconn(fd=66, family=<AddressFamily.AF_INET: 2>, type=<SocketKind.SOCK_STREAM: 1>, laddr=addr(ip='127.0.0.1', port=54292), raddr=addr(ip='127.0.0.1', port=9004), status='ESTABLISHED', pid=331)\n",
      "sconn(fd=74, family=<AddressFamily.AF_INET: 2>, type=<SocketKind.SOCK_STREAM: 1>, laddr=addr(ip='127.0.0.1', port=35668), raddr=addr(ip='127.0.0.1', port=9003), status='ESTABLISHED', pid=331)\n",
      "sconn(fd=18, family=<AddressFamily.AF_INET: 2>, type=<SocketKind.SOCK_STREAM: 1>, laddr=addr(ip='127.0.0.1', port=43962), raddr=addr(ip='127.0.0.1', port=33349), status='ESTABLISHED', pid=265)\n",
      "sconn(fd=65, family=<AddressFamily.AF_INET: 2>, type=<SocketKind.SOCK_STREAM: 1>, laddr=addr(ip='127.0.0.1', port=9001), raddr=addr(ip='127.0.0.1', port=42520), status='ESTABLISHED', pid=4216)\n",
      "sconn(fd=66, family=<AddressFamily.AF_INET: 2>, type=<SocketKind.SOCK_STREAM: 1>, laddr=addr(ip='127.0.0.1', port=9003), raddr=addr(ip='127.0.0.1', port=35668), status='ESTABLISHED', pid=4216)\n",
      "sconn(fd=20, family=<AddressFamily.AF_INET: 2>, type=<SocketKind.SOCK_STREAM: 1>, laddr=addr(ip='127.0.0.1', port=33349), raddr=addr(ip='127.0.0.1', port=43962), status='ESTABLISHED', pid=188)\n",
      "sconn(fd=17, family=<AddressFamily.AF_INET: 2>, type=<SocketKind.SOCK_STREAM: 1>, laddr=addr(ip='127.0.0.1', port=9002), raddr=addr(ip='127.0.0.1', port=44948), status='ESTABLISHED', pid=4216)\n",
      "sconn(fd=18, family=<AddressFamily.AF_INET: 2>, type=<SocketKind.SOCK_STREAM: 1>, laddr=addr(ip='127.0.0.1', port=43964), raddr=addr(ip='127.0.0.1', port=33349), status='ESTABLISHED', pid=305)\n",
      "sconn(fd=62, family=<AddressFamily.AF_INET: 2>, type=<SocketKind.SOCK_STREAM: 1>, laddr=addr(ip='127.0.0.1', port=9004), raddr=addr(ip='127.0.0.1', port=54292), status='ESTABLISHED', pid=4216)\n",
      "sconn(fd=70, family=<AddressFamily.AF_INET: 2>, type=<SocketKind.SOCK_STREAM: 1>, laddr=addr(ip='127.0.0.1', port=44958), raddr=addr(ip='127.0.0.1', port=9002), status='ESTABLISHED', pid=331)\n",
      "sconn(fd=19, family=<AddressFamily.AF_INET: 2>, type=<SocketKind.SOCK_STREAM: 1>, laddr=addr(ip='127.0.0.1', port=33349), raddr=addr(ip='127.0.0.1', port=43964), status='ESTABLISHED', pid=331)\n"
     ]
    }
   ],
   "source": [
    "for conn in connections:\n",
    "    if conn.pid != None:# and not \"127\" in str(conn.raddr):\n",
    "        a = str(conn)\n",
    "        if \"status='ESTABLISHED'\" in a:\n",
    "            print(a)\n",
    "\n",
    "\n",
    "\n",
    "\n",
    "# [print(conn) for conn in connections if conn.pid != None and not \"127\" in conn.raddr ]"
   ]
  },
  {
   "cell_type": "code",
   "execution_count": 5,
   "metadata": {},
   "outputs": [
    {
     "name": "stdout",
     "output_type": "stream",
     "text": [
      "python is sending data (PID: 4216).\n",
      "Capturing network traffic...\n",
      "ksdjfnlikflf\n"
     ]
    }
   ],
   "source": [
    "import psutil\n",
    "from scapy.all import sniff\n",
    "from scapy import *\n",
    "\n",
    "def get_network_connections():\n",
    "    connections = psutil.net_connections(kind='inet')\n",
    "    return connections\n",
    "\n",
    "def is_software_sending_data(process_name):\n",
    "    connections = get_network_connections()\n",
    "    for conn in connections:\n",
    "        if conn.status == 'ESTABLISHED' and conn.pid is not None:\n",
    "            try:\n",
    "                process = psutil.Process(conn.pid)\n",
    "                # if process.name() == process_name:\n",
    "                return conn.pid\n",
    "            except psutil.NoSuchProcess:\n",
    "                pass\n",
    "    return None\n",
    "\n",
    "def capture_network_traffic(pid):\n",
    "    def packet_handler(packet):\n",
    "        # Process network packet data here\n",
    "        with open(\"./test.log\",\"a\") as f:\n",
    "            f.write(f\"Packet captured from PID {pid}: {packet.summary()}\\n\")\n",
    "        # print(f\"Packet captured from PID {pid}: {packet.summary()}\")\n",
    "\n",
    "    sniff(filter=\"ip\", prn=packet_handler, timeout=10)\n",
    "    print(\"ksdjfnlikflf\")\n",
    "\n",
    "\n",
    "if __name__ == \"__main__\":\n",
    "    process_name_to_check = \"python\"  # Replace with the name of the software you want to monitor\n",
    "    pid = is_software_sending_data(process_name_to_check)\n",
    "\n",
    "    if pid is not None:\n",
    "        print(f\"{process_name_to_check} is sending data (PID: {pid}).\")\n",
    "        print(\"Capturing network traffic...\")\n",
    "        capture_network_traffic(pid)\n",
    "    else:\n",
    "        print(f\"{process_name_to_check} is not sending data.\")\n"
   ]
  },
  {
   "cell_type": "code",
   "execution_count": 1,
   "metadata": {},
   "outputs": [
    {
     "name": "stdout",
     "output_type": "stream",
     "text": [
      "{'/usr/local/bin/python3.11': 12, '/root/.vscode-server/bin/abd2f3db4bdb28f9e95536dfa84d8479f1eb312d/node': 10}\n"
     ]
    }
   ],
   "source": [
    "import psutil\n",
    "from scapy import *\n",
    "from scapy.all import sniff\n",
    "\n",
    "\n",
    "\n",
    "connections = psutil.net_connections(kind='inet')\n",
    "programms = {}\n",
    "for conn in connections:\n",
    "    if conn.pid is not None:\n",
    "        process = psutil.Process(conn.pid)\n",
    "        if not process.exe() in programms:\n",
    "            programms[process.exe()] = 1\n",
    "        else:\n",
    "            programms[process.exe()] += 1\n",
    "            # could add process.name()\n",
    "print(programms)\n",
    "        # if not \".vscode-server\" in process.exe():\n",
    "        #     # print(\"not vs code\")\n",
    "        #     sniff(filter=\"ip\", prn=lambda packet: print(f\"Packet captured: {packet.summary()}\"))"
   ]
  },
  {
   "cell_type": "code",
   "execution_count": 3,
   "metadata": {},
   "outputs": [],
   "source": [
    "import psutil\n",
    "from scapy import *\n",
    "from scapy.all import sniff, IP\n",
    "\n"
   ]
  },
  {
   "cell_type": "code",
   "execution_count": 5,
   "metadata": {},
   "outputs": [
    {
     "name": "stdout",
     "output_type": "stream",
     "text": [
      "/usr/local/bin/python3.11\n",
      "/root/.vscode-server/bin/abd2f3db4bdb28f9e95536dfa84d8479f1eb312d/node\n",
      "<class 'scapy.plist.PacketList'>\n"
     ]
    }
   ],
   "source": [
    "def capture_network_traffic(pid):\n",
    "\n",
    "    packet = sniff(timeout=3)#lambda packet: print(f\"Packet captured: {packet.summary()}\")\n",
    "    # packet.summary()\n",
    "    vergleich = dir(packet)\n",
    "    for n,i in enumerate(packet):\n",
    "        print(n,i)\n",
    "        print(\"wasd \",i._resolve_alias)\n",
    "        # Idee lass das 1 min vor den tests starten und aufnehmen was so abgeht und wenn \n",
    "        # der download startet weiß ich das und wenn danach oder beim generieren was dazu\n",
    "        # kommt kann ich das sehen.\n",
    "        if i.type == \"ipv4\":\n",
    "            print(\"juhu\")\n",
    "        print(\"dst \",i.dst)\n",
    "        # i._do_summary könnte interessant sein\n",
    "        # nicht wirklich: __contains__\n",
    "        \n",
    "        # print(\"regkljröeourtpizhnur\",dir(i))\n",
    "        v = dir(i)\n",
    "        a = i\n",
    "        print(type(i._do_summary))\n",
    "    print(type(packet))\n",
    "    # [print(i) for i in v if i not in vergleich]\n",
    "    # [print(method,\"\\n\") for method in v if callable(getattr(a, method) and not method in vergleich)]\n",
    "    \n",
    "    # class_methods_and_attributes = dir(packet[IP])\n",
    "    if IP in packet:\n",
    "        print(packet[IP])\n",
    "        # Check if the packet is an Ethernet frame\n",
    "        # if EtherDA in packet:\n",
    "        #     print(\"in if\")\n",
    "        #     eth_frame = packet[EtherDA]\n",
    "        #     print(\"is eth_frame\")\n",
    "        #     # Extract the payload data from the Ethernet frame\n",
    "        #     payload_data = eth_frame.payload\n",
    "        #     # Process and print the payload data\n",
    "        #     print(f\"Packet captured from PID {pid}: {payload_data}\")\n",
    "\n",
    "connections = psutil.net_connections(kind='inet')\n",
    "\n",
    "for conn in connections:\n",
    "    if conn.pid is not None:\n",
    "        process = psutil.Process(conn.pid)\n",
    "        print(process.exe())\n",
    "        if \".vscode-server\" in process.exe():\n",
    "            capture_network_traffic(conn.pid)\n",
    "            break"
   ]
  },
  {
   "cell_type": "code",
   "execution_count": 21,
   "metadata": {},
   "outputs": [
    {
     "name": "stdout",
     "output_type": "stream",
     "text": [
      "sconn(fd=63, family=<AddressFamily.AF_INET: 2>, type=<SocketKind.SOCK_STREAM: 1>, laddr=addr(ip='127.0.0.1', port=9002), raddr=addr(ip='127.0.0.1', port=44958), status='ESTABLISHED', pid=4216)\n",
      "sconn(fd=16, family=<AddressFamily.AF_INET: 2>, type=<SocketKind.SOCK_STREAM: 1>, laddr=addr(ip='127.0.0.1', port=44948), raddr=addr(ip='127.0.0.1', port=9002), status='ESTABLISHED', pid=4216)\n",
      "sconn(fd=72, family=<AddressFamily.AF_INET: 2>, type=<SocketKind.SOCK_STREAM: 1>, laddr=addr(ip='127.0.0.1', port=42520), raddr=addr(ip='127.0.0.1', port=9001), status='ESTABLISHED', pid=331)\n",
      "sconn(fd=66, family=<AddressFamily.AF_INET: 2>, type=<SocketKind.SOCK_STREAM: 1>, laddr=addr(ip='127.0.0.1', port=54292), raddr=addr(ip='127.0.0.1', port=9004), status='ESTABLISHED', pid=331)\n",
      "sconn(fd=74, family=<AddressFamily.AF_INET: 2>, type=<SocketKind.SOCK_STREAM: 1>, laddr=addr(ip='127.0.0.1', port=35668), raddr=addr(ip='127.0.0.1', port=9003), status='ESTABLISHED', pid=331)\n",
      "sconn(fd=18, family=<AddressFamily.AF_INET: 2>, type=<SocketKind.SOCK_STREAM: 1>, laddr=addr(ip='127.0.0.1', port=43962), raddr=addr(ip='127.0.0.1', port=33349), status='ESTABLISHED', pid=265)\n",
      "sconn(fd=65, family=<AddressFamily.AF_INET: 2>, type=<SocketKind.SOCK_STREAM: 1>, laddr=addr(ip='127.0.0.1', port=9001), raddr=addr(ip='127.0.0.1', port=42520), status='ESTABLISHED', pid=4216)\n",
      "sconn(fd=66, family=<AddressFamily.AF_INET: 2>, type=<SocketKind.SOCK_STREAM: 1>, laddr=addr(ip='127.0.0.1', port=9003), raddr=addr(ip='127.0.0.1', port=35668), status='ESTABLISHED', pid=4216)\n",
      "sconn(fd=20, family=<AddressFamily.AF_INET: 2>, type=<SocketKind.SOCK_STREAM: 1>, laddr=addr(ip='127.0.0.1', port=33349), raddr=addr(ip='127.0.0.1', port=43962), status='ESTABLISHED', pid=188)\n",
      "sconn(fd=17, family=<AddressFamily.AF_INET: 2>, type=<SocketKind.SOCK_STREAM: 1>, laddr=addr(ip='127.0.0.1', port=9002), raddr=addr(ip='127.0.0.1', port=44948), status='ESTABLISHED', pid=4216)\n",
      "sconn(fd=18, family=<AddressFamily.AF_INET: 2>, type=<SocketKind.SOCK_STREAM: 1>, laddr=addr(ip='127.0.0.1', port=43964), raddr=addr(ip='127.0.0.1', port=33349), status='ESTABLISHED', pid=305)\n",
      "sconn(fd=62, family=<AddressFamily.AF_INET: 2>, type=<SocketKind.SOCK_STREAM: 1>, laddr=addr(ip='127.0.0.1', port=9004), raddr=addr(ip='127.0.0.1', port=54292), status='ESTABLISHED', pid=4216)\n",
      "sconn(fd=70, family=<AddressFamily.AF_INET: 2>, type=<SocketKind.SOCK_STREAM: 1>, laddr=addr(ip='127.0.0.1', port=44958), raddr=addr(ip='127.0.0.1', port=9002), status='ESTABLISHED', pid=331)\n",
      "sconn(fd=19, family=<AddressFamily.AF_INET: 2>, type=<SocketKind.SOCK_STREAM: 1>, laddr=addr(ip='127.0.0.1', port=33349), raddr=addr(ip='127.0.0.1', port=43964), status='ESTABLISHED', pid=331)\n"
     ]
    }
   ],
   "source": [
    "import psutil\n",
    "from scapy.all import sniff\n",
    "\n",
    "def packet_handler(packet):\n",
    "    # Process network packet data here\n",
    "    with open(\"./test.log\",\"a\") as f:\n",
    "        f.write(f\"Packet captured from PID {pid}: {packet.summary()}\\n\")\n",
    "    # print(f\"Packet captured from PID {pid}: {packet.summary()}\")\n",
    "    print(packet.summary())\n",
    "\n",
    "connections = psutil.net_connections(kind='inet')\n",
    "\n",
    "for conn in connections:\n",
    "    if conn.status == 'ESTABLISHED'and conn.pid is not None:\n",
    "        a = str(conn)\n",
    "        print(a)\n",
    "        remote_adresses = [i.split(\"'\")[1] for i in a.split(\",\") if \"raddr=addr(ip\" in i] # die strings sind immer gleich aufgebaut\n",
    "        for i in remote_adresses:\n",
    "            if not \"127.0.0.1\": \n",
    "                not_intended_connections = i\n",
    "                print(\"asdadasdas\",not_intended_connections)\n",
    "        sniff(prn=packet_handler, timeout=3)\n",
    "\n",
    "            "
   ]
  },
  {
   "cell_type": "code",
   "execution_count": null,
   "metadata": {},
   "outputs": [],
   "source": []
  }
 ],
 "metadata": {
  "kernelspec": {
   "display_name": "venv_network",
   "language": "python",
   "name": "python3"
  },
  "language_info": {
   "codemirror_mode": {
    "name": "ipython",
    "version": 3
   },
   "file_extension": ".py",
   "mimetype": "text/x-python",
   "name": "python",
   "nbconvert_exporter": "python",
   "pygments_lexer": "ipython3",
   "version": "3.11.4"
  },
  "orig_nbformat": 4
 },
 "nbformat": 4,
 "nbformat_minor": 2
}
